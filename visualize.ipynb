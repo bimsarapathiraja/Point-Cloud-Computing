{
 "nbformat": 4,
 "nbformat_minor": 2,
 "metadata": {
  "language_info": {
   "name": "python",
   "codemirror_mode": {
    "name": "ipython",
    "version": 3
   },
   "version": "3.7.4"
  },
  "orig_nbformat": 2,
  "file_extension": ".py",
  "mimetype": "text/x-python",
  "name": "python",
  "npconvert_exporter": "python",
  "pygments_lexer": "ipython3",
  "version": 3
 },
 "cells": [
  {
   "cell_type": "code",
   "execution_count": 2,
   "metadata": {},
   "outputs": [],
   "source": [
    "def getDataFiles(list_filename):\n",
    "    return [line.rstrip() for line in open(list_filename)]"
   ]
  },
  {
   "cell_type": "code",
   "execution_count": 4,
   "metadata": {},
   "outputs": [
    {
     "name": "stderr",
     "output_type": "stream",
     "text": "/home/jackjill/Desktop/Machine Vision/pointnet-master/provider.py:91: H5pyDeprecationWarning: The default file mode will change to 'r' (read-only) in h5py 3.0. To suppress this warning, pass the mode you need to h5py.File(), or set the global default h5.get_config().default_file_mode, or set the environment variable H5PY_DEFAULT_READONLY=1. Available modes are: 'r', 'r+', 'w', 'w-'/'x', 'a'. See the docs for details.\n  f = h5py.File(h5_filename)\n"
    }
   ],
   "source": [
    "BASE_DIR = os.path.dirname(os.path.abspath('train.py'))\n",
    "\n",
    "TRAIN_FILES = getDataFiles( \\\n",
    "os.path.join(BASE_DIR, 'data/modelnet40_ply_hdf5_2048/train_files.txt'))\n",
    "\n",
    "train_file_idxs = np.arange(0, len(TRAIN_FILES))\n",
    "\n",
    "current_data, current_label = provider.loadDataFile(TRAIN_FILES[train_file_idxs[0]])"
   ]
  },
  {
   "cell_type": "code",
   "execution_count": 5,
   "metadata": {},
   "outputs": [
    {
     "name": "stdout",
     "output_type": "stream",
     "text": "<class 'numpy.ndarray'>\n(2048, 2048, 3)\n[[ 0.09804384 -0.16375712 -0.88815236]\n [-0.23270538  0.20258272  0.9004929 ]\n [-0.2567441  -0.25970268 -0.49264464]\n ...\n [-0.39915243  0.11317458 -0.87155205]\n [-0.39915243  0.06148027 -0.857612  ]\n [ 0.05074174  0.04413288  0.13229933]]\n"
    }
   ],
   "source": [
    "print(type(current_data)) \n",
    "print(current_data.shape)\n",
    "print(current_data[0])\n",
    "\n",
    "#2048 images in one file. each image has (2048, 3) array with the coordinates."
   ]
  },
  {
   "cell_type": "code",
   "execution_count": 8,
   "metadata": {},
   "outputs": [],
   "source": [
    "import math\n",
    "\n",
    "import sys\n",
    "if sys.version_info >= (3,0):\n",
    "    from functools import reduce"
   ]
  },
  {
   "cell_type": "code",
   "execution_count": 9,
   "metadata": {},
   "outputs": [],
   "source": [
    "def euler2mat(z=0, y=0, x=0):\n",
    "    Ms = []\n",
    "    if z:\n",
    "        cosz = math.cos(z)\n",
    "        sinz = math.sin(z)\n",
    "        Ms.append(np.array(\n",
    "                [[cosz, -sinz, 0],\n",
    "                 [sinz, cosz, 0],\n",
    "                 [0, 0, 1]]))\n",
    "    if y:\n",
    "        cosy = math.cos(y)\n",
    "        siny = math.sin(y)\n",
    "        Ms.append(np.array(\n",
    "                [[cosy, 0, siny],\n",
    "                 [0, 1, 0],\n",
    "                 [-siny, 0, cosy]]))\n",
    "    if x:\n",
    "        cosx = math.cos(x)\n",
    "        sinx = math.sin(x)\n",
    "        Ms.append(np.array(\n",
    "                [[1, 0, 0],\n",
    "                 [0, cosx, -sinx],\n",
    "                 [0, sinx, cosx]]))\n",
    "    if Ms:\n",
    "        return reduce(np.dot, Ms[::-1]) \n",
    "    return np.eye(3)\n",
    "    \n",
    "#Rotation matrix is returned\n",
    "    #http://en.wikipedia.org/wiki/Rotation_matrix    "
   ]
  },
  {
   "cell_type": "code",
   "execution_count": 12,
   "metadata": {},
   "outputs": [],
   "source": [
    "def draw_point_cloud(input_points, canvasSize=500, space=200, diameter=25,\n",
    "                     xrot=0, yrot=0, zrot=0, switch_xyz=[0,1,2], normalize=True):\n",
    "    \"\"\" Render point cloud to image with alpha channel.\n",
    "        Input:\n",
    "            points: Nx3 numpy array (+y is up direction)\n",
    "        Output:\n",
    "            gray image as numpy array of size canvasSizexcanvasSize\n",
    "    \"\"\"\n",
    "    image = np.zeros((canvasSize, canvasSize))\n",
    "    if input_points is None or input_points.shape[0] == 0:\n",
    "        return image\n",
    "\n",
    "    points = input_points[:, switch_xyz]\n",
    "    M = euler2mat(zrot, yrot, xrot)\n",
    "    #print(M) #******\n",
    "    points = (np.dot(M, points.transpose())).transpose()\n",
    "    #print(points.shape) #******\n",
    "    # Normalize the point cloud\n",
    "    # We normalize scale to fit points in a unit sphere\n",
    "    if normalize:\n",
    "        centroid = np.mean(points, axis=0)\n",
    "        points -= centroid\n",
    "        furthest_distance = np.max(np.sqrt(np.sum(abs(points)**2,axis=-1)))\n",
    "        points /= furthest_distance\n",
    "\n",
    "    # Pre-compute the Gaussian disk\n",
    "    radius = (diameter-1)/2.0\n",
    "    disk = np.zeros((diameter, diameter))\n",
    "    for i in range(diameter):\n",
    "        for j in range(diameter):\n",
    "            if (i - radius) * (i-radius) + (j-radius) * (j-radius) <= radius * radius:\n",
    "                disk[i, j] = np.exp((-(i-radius)**2 - (j-radius)**2)/(radius**2))\n",
    "    mask = np.argwhere(disk > 0) #the indexes of the places with values > 0\n",
    "    dx = mask[:, 0] #x coordinates with positive values\n",
    "    dy = mask[:, 1] #y coordinates with positive values\n",
    "    dv = disk[disk > 0] #positive values in the disk\n",
    "    \n",
    "    # Order points by z-buffer\n",
    "    zorder = np.argsort(points[:, 2]) \n",
    "    points = points[zorder, :]\n",
    "    points[:, 2] = (points[:, 2] - np.min(points[:, 2])) / (np.max(points[:, 2] - np.min(points[:, 2])))\n",
    "    max_depth = np.max(points[:, 2])\n",
    "       \n",
    "    for i in range(points.shape[0]):\n",
    "        j = points.shape[0] - i - 1 #from 2047 to 0\n",
    "        x = points[j, 0] #from largest to smallest value\n",
    "        y = points[j, 1]\n",
    "        xc = canvasSize/2 + (x*space)\n",
    "        yc = canvasSize/2 + (y*space)\n",
    "        xc = int(np.round(xc))\n",
    "        yc = int(np.round(yc))\n",
    "        \n",
    "        px = dx + xc\n",
    "        py = dy + yc\n",
    "        \n",
    "        image[px, py] = image[px, py] * 0.7 + dv * (max_depth - points[j, 2]) * 0.3\n",
    "    \n",
    "    image = image / np.max(image)\n",
    "    return image"
   ]
  },
  {
   "cell_type": "code",
   "execution_count": 13,
   "metadata": {},
   "outputs": [],
   "source": [
    "def point_cloud_three_views(points):\n",
    "    \"\"\" input points Nx3 numpy array (+y is up direction).\n",
    "        return an numpy array gray image of size 500x1500. \"\"\" \n",
    "    # +y is up direction\n",
    "    # xrot is azimuth\n",
    "    # yrot is in-plane\n",
    "    # zrot is elevation\n",
    "    #print(\"in\")\n",
    "    img1 = draw_point_cloud(points, zrot=110/180.0*np.pi, xrot=45/180.0*np.pi, yrot=0/180.0*np.pi)\n",
    "    img2 = draw_point_cloud(points, zrot=70/180.0*np.pi, xrot=135/180.0*np.pi, yrot=0/180.0*np.pi)\n",
    "    img3 = draw_point_cloud(points, zrot=180.0/180.0*np.pi, xrot=90/180.0*np.pi, yrot=0/180.0*np.pi)\n",
    "    image_large = np.concatenate([img1, img2, img3], 1) #concatenating three images into one\n",
    "    return image_large"
   ]
  },
  {
   "cell_type": "code",
   "execution_count": 16,
   "metadata": {},
   "outputs": [],
   "source": [
    "import sys\n",
    "import scipy.misc\n",
    "import imageio"
   ]
  },
  {
   "cell_type": "code",
   "execution_count": 14,
   "metadata": {},
   "outputs": [],
   "source": [
    "output_img = point_cloud_three_views(np.squeeze(current_data[0, :, :]))"
   ]
  },
  {
   "cell_type": "code",
   "execution_count": 17,
   "metadata": {},
   "outputs": [
    {
     "name": "stderr",
     "output_type": "stream",
     "text": "Lossy conversion from float64 to uint8. Range [0, 1]. Convert image to uint8 prior to saving to suppress this warning.\n"
    }
   ],
   "source": [
    "imageio.imwrite('sofa_train.jpg', output_img)"
   ]
  },
  {
   "cell_type": "code",
   "execution_count": null,
   "metadata": {},
   "outputs": [],
   "source": []
  },
  {
   "cell_type": "code",
   "execution_count": 1,
   "metadata": {},
   "outputs": [],
   "source": [
    "import h5py\n",
    "import pandas as pd\n",
    "import numpy as np\n",
    "import os"
   ]
  }
 ]
}