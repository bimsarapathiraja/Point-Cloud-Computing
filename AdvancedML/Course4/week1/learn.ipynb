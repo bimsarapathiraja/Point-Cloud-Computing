{
 "nbformat": 4,
 "nbformat_minor": 2,
 "metadata": {
  "language_info": {
   "name": "python",
   "codemirror_mode": {
    "name": "ipython",
    "version": 3
   },
   "version": "3.7.4-final"
  },
  "orig_nbformat": 2,
  "file_extension": ".py",
  "mimetype": "text/x-python",
  "name": "python",
  "npconvert_exporter": "python",
  "pygments_lexer": "ipython3",
  "version": 3,
  "kernelspec": {
   "name": "python3",
   "display_name": "Python 3"
  }
 },
 "cells": [
  {
   "cell_type": "code",
   "execution_count": 3,
   "metadata": {},
   "outputs": [],
   "source": [
    "import numpy as np"
   ]
  },
  {
   "cell_type": "code",
   "execution_count": 3,
   "metadata": {},
   "outputs": [],
   "source": [
    "a = np.array([[1, 2], [1, 3]])\n",
    "b = np.array([[2, 4], [3, 1]])"
   ]
  },
  {
   "cell_type": "code",
   "execution_count": 4,
   "metadata": {},
   "outputs": [
    {
     "output_type": "execute_result",
     "data": {
      "text/plain": "array([[1, 2],\n       [1, 3]])"
     },
     "metadata": {},
     "execution_count": 4
    }
   ],
   "source": [
    "a"
   ]
  },
  {
   "cell_type": "code",
   "execution_count": 5,
   "metadata": {},
   "outputs": [
    {
     "output_type": "execute_result",
     "data": {
      "text/plain": "array([[2, 4],\n       [3, 1]])"
     },
     "metadata": {},
     "execution_count": 5
    }
   ],
   "source": [
    "b"
   ]
  },
  {
   "cell_type": "code",
   "execution_count": 6,
   "metadata": {},
   "outputs": [
    {
     "output_type": "execute_result",
     "data": {
      "text/plain": "array([[2, 8],\n       [3, 3]])"
     },
     "metadata": {},
     "execution_count": 6
    }
   ],
   "source": [
    "a*b"
   ]
  },
  {
   "cell_type": "code",
   "execution_count": 7,
   "metadata": {},
   "outputs": [
    {
     "output_type": "execute_result",
     "data": {
      "text/plain": "array([[1, 4],\n       [1, 9]])"
     },
     "metadata": {},
     "execution_count": 7
    }
   ],
   "source": [
    "a*a"
   ]
  },
  {
   "cell_type": "code",
   "execution_count": 8,
   "metadata": {},
   "outputs": [
    {
     "output_type": "execute_result",
     "data": {
      "text/plain": "array([[1, 4],\n       [1, 9]])"
     },
     "metadata": {},
     "execution_count": 8
    }
   ],
   "source": [
    "a**2"
   ]
  },
  {
   "cell_type": "code",
   "execution_count": 9,
   "metadata": {},
   "outputs": [
    {
     "output_type": "execute_result",
     "data": {
      "text/plain": "array([[0.5       , 0.5       ],\n       [0.33333333, 3.        ]])"
     },
     "metadata": {},
     "execution_count": 9
    }
   ],
   "source": [
    "a/b"
   ]
  },
  {
   "cell_type": "code",
   "execution_count": 4,
   "metadata": {},
   "outputs": [],
   "source": [
    "c = np.random.randint(0, 255, (10, 10))"
   ]
  },
  {
   "cell_type": "code",
   "execution_count": 5,
   "metadata": {},
   "outputs": [
    {
     "output_type": "execute_result",
     "data": {
      "text/plain": "array([[ 74, 150, 185, 132,  77,  50, 213, 142,  29, 107],\n       [ 31,  52,  90,  90,  34, 105, 174,   6,  91, 178],\n       [100, 174, 254,  68, 121,  50, 138, 168,  27,  43],\n       [156,  37, 244, 233, 113,  29, 142, 137, 110,  99],\n       [ 57, 195,  77,  37,  68, 183, 242, 109, 230, 252],\n       [  9, 178, 245, 133,  54,  96, 149,  77,  87, 212],\n       [  9, 185,  33, 125,  48, 210, 185, 227, 232, 135],\n       [243, 183,  75,  24, 174, 128, 136,  86, 239,  77],\n       [ 98, 123,   2,  52, 137,  26, 176, 251, 116, 148],\n       [238,  93,  30, 153, 165, 103, 206, 146, 217,  46]])"
     },
     "metadata": {},
     "execution_count": 5
    }
   ],
   "source": [
    "c"
   ]
  },
  {
   "cell_type": "code",
   "execution_count": 6,
   "metadata": {},
   "outputs": [],
   "source": [
    "from scipy import ndimage"
   ]
  },
  {
   "cell_type": "code",
   "execution_count": 8,
   "metadata": {},
   "outputs": [],
   "source": [
    "filtered = ndimage.filters.gaussian_filter(c, sigma = 1)"
   ]
  },
  {
   "cell_type": "code",
   "execution_count": 9,
   "metadata": {},
   "outputs": [
    {
     "output_type": "execute_result",
     "data": {
      "text/plain": "array([[ 86, 113, 129, 112,  91, 102, 126, 111,  91, 100],\n       [ 85, 110, 126, 109,  90,  99, 117, 104,  91, 100],\n       [103, 126, 144, 126, 100,  99, 116, 112,  97,  96],\n       [112, 132, 149, 134, 109, 110, 129, 131, 126, 127],\n       [ 98, 127, 138, 119, 106, 124, 144, 146, 156, 172],\n       [ 87, 123, 131, 110, 105, 129, 149, 152, 163, 177],\n       [106, 122, 113, 100, 108, 134, 154, 163, 166, 159],\n       [139, 123,  92,  87, 109, 131, 151, 165, 161, 141],\n       [149, 115,  81,  88, 111, 126, 151, 167, 155, 128],\n       [158, 113,  83, 101, 122, 133, 157, 170, 151, 116]])"
     },
     "metadata": {},
     "execution_count": 9
    }
   ],
   "source": [
    "filtered"
   ]
  },
  {
   "cell_type": "code",
   "execution_count": 10,
   "metadata": {},
   "outputs": [
    {
     "output_type": "execute_result",
     "data": {
      "text/plain": "(10, 10)"
     },
     "metadata": {},
     "execution_count": 10
    }
   ],
   "source": [
    "filtered.shape"
   ]
  },
  {
   "cell_type": "code",
   "execution_count": 11,
   "metadata": {},
   "outputs": [
    {
     "output_type": "execute_result",
     "data": {
      "text/plain": "True"
     },
     "metadata": {},
     "execution_count": 11
    }
   ],
   "source": [
    "0 < 4 < 5"
   ]
  },
  {
   "cell_type": "code",
   "execution_count": 12,
   "metadata": {},
   "outputs": [
    {
     "output_type": "execute_result",
     "data": {
      "text/plain": "array([[ 86, 113, 129, 112,  91, 102, 126, 111,  91, 100],\n       [ 85, 110, 126, 109,  90,  99, 117, 104,  91, 100],\n       [103, 126, 144, 126, 100,  99, 116, 112,  97,  96],\n       [112, 132, 149, 134, 109, 110, 129, 131, 126, 127],\n       [ 98, 127, 138, 119, 106, 124, 144, 146,   0,   0],\n       [ 87, 123, 131, 110, 105, 129, 149,   0,   0,   0],\n       [106, 122, 113, 100, 108, 134,   0,   0,   0,   0],\n       [139, 123,  92,  87, 109, 131,   0,   0,   0, 141],\n       [149, 115,  81,  88, 111, 126,   0,   0,   0, 128],\n       [  0, 113,  83, 101, 122, 133,   0,   0,   0, 116]])"
     },
     "metadata": {},
     "execution_count": 12
    }
   ],
   "source": [
    "filtered[filtered > 150] = 0\n",
    "filtered"
   ]
  },
  {
   "cell_type": "code",
   "execution_count": 14,
   "metadata": {},
   "outputs": [],
   "source": [
    "filtered[np.logical_and(filtered > 125, filtered < 150)] = 1"
   ]
  },
  {
   "cell_type": "code",
   "execution_count": 15,
   "metadata": {},
   "outputs": [
    {
     "output_type": "execute_result",
     "data": {
      "text/plain": "array([[ 86, 113,   1, 112,  91, 102,   1, 111,  91, 100],\n       [ 85, 110,   1, 109,  90,  99, 117, 104,  91, 100],\n       [103,   1,   1,   1, 100,  99, 116, 112,  97,  96],\n       [112,   1,   1,   1, 109, 110,   1,   1,   1,   1],\n       [ 98,   1,   1, 119, 106, 124,   1,   1,   0,   0],\n       [ 87, 123,   1, 110, 105,   1,   1,   0,   0,   0],\n       [106, 122, 113, 100, 108,   1,   0,   0,   0,   0],\n       [  1, 123,  92,  87, 109,   1,   0,   0,   0,   1],\n       [  1, 115,  81,  88, 111,   1,   0,   0,   0,   1],\n       [  0, 113,  83, 101, 122,   1,   0,   0,   0, 116]])"
     },
     "metadata": {},
     "execution_count": 15
    }
   ],
   "source": [
    "filtered"
   ]
  },
  {
   "cell_type": "code",
   "execution_count": 16,
   "metadata": {},
   "outputs": [
    {
     "output_type": "execute_result",
     "data": {
      "text/plain": "array([[ 74, 150, 185, 132,  77,  50, 213, 142,  29, 107],\n       [ 31,  52,  90,  90,  34, 105, 174,   6,  91, 178],\n       [100, 174, 254,  68, 121,  50, 138, 168,  27,  43],\n       [156,  37, 244, 233, 113,  29, 142, 137, 110,  99],\n       [ 57, 195,  77,  37,  68, 183, 242, 109, 230, 252],\n       [  9, 178, 245, 133,  54,  96, 149,  77,  87, 212],\n       [  9, 185,  33, 125,  48, 210, 185, 227, 232, 135],\n       [243, 183,  75,  24, 174, 128, 136,  86, 239,  77],\n       [ 98, 123,   2,  52, 137,  26, 176, 251, 116, 148],\n       [238,  93,  30, 153, 165, 103, 206, 146, 217,  46]])"
     },
     "metadata": {},
     "execution_count": 16
    }
   ],
   "source": [
    "c"
   ]
  },
  {
   "cell_type": "code",
   "execution_count": 18,
   "metadata": {},
   "outputs": [
    {
     "output_type": "execute_result",
     "data": {
      "text/plain": "254"
     },
     "metadata": {},
     "execution_count": 18
    }
   ],
   "source": [
    "np.amax(c)"
   ]
  },
  {
   "cell_type": "code",
   "execution_count": null,
   "metadata": {},
   "outputs": [],
   "source": [
    "np.mean(c)"
   ]
  },
  {
   "cell_type": "code",
   "execution_count": null,
   "metadata": {},
   "outputs": [],
   "source": [
    "x, y, z = 0"
   ]
  },
  {
   "cell_type": "code",
   "execution_count": null,
   "metadata": {},
   "outputs": [],
   "source": []
  }
 ]
}